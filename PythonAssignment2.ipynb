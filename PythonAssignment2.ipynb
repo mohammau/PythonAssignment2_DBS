{
  "nbformat": 4,
  "nbformat_minor": 0,
  "metadata": {
    "colab": {
      "provenance": [],
      "authorship_tag": "ABX9TyPN6/YkpNh1vAgq41fQ80Sl",
      "include_colab_link": true
    },
    "kernelspec": {
      "name": "python3",
      "display_name": "Python 3"
    },
    "language_info": {
      "name": "python"
    }
  },
  "cells": [
    {
      "cell_type": "markdown",
      "metadata": {
        "id": "view-in-github",
        "colab_type": "text"
      },
      "source": [
        "<a href=\"https://colab.research.google.com/github/mohammau/PythonAssignment2_DBS/blob/main/PythonAssignment2.ipynb\" target=\"_parent\"><img src=\"https://colab.research.google.com/assets/colab-badge.svg\" alt=\"Open In Colab\"/></a>"
      ]
    },
    {
      "cell_type": "code",
      "source": [
        "#Problem Statemet:\n",
        "\n",
        "#Design and develop data acquisition and pre-processing pipleline by \"Web Scraping\" the following site \"https://www.worldometers.info/\" that has various data on world population,\n",
        "#Government and Economics, Society and media etc. \n",
        "\n",
        "#The Extraction of features like population, enerygy, food etc and transforming them to show the population data at a specific period of time or the differnce of populations over \n",
        "#two specific periods of time etc.\n",
        "\n",
        "#Loading the transformed data in the database\n",
        "\n",
        "#Note: The features listed above are for example only and they may change during the course of implementation. "
      ],
      "metadata": {
        "id": "AIYA6ZxzRpq_"
      },
      "execution_count": 2,
      "outputs": []
    },
    {
      "cell_type": "code",
      "source": [
        "# Import the Necessary Libraries\n",
        "\n",
        "import requests\n",
        "import pandas as pd\n",
        "from bs4 import BeautifulSoup\n"
      ],
      "metadata": {
        "id": "rFQmlStYZ8y3"
      },
      "execution_count": 3,
      "outputs": []
    },
    {
      "cell_type": "code",
      "source": [
        "#Assign the api to a variable names 'url'\n",
        "\n",
        "url= 'https://d.pub.network/v2/init?siteId=285&env=PROD'"
      ],
      "metadata": {
        "id": "_yrah8VadgcX"
      },
      "execution_count": 4,
      "outputs": []
    },
    {
      "cell_type": "code",
      "source": [
        "#Store the response of the api using 'get' method in variable 'response'\n",
        "\n",
        "response = requests.get(url)"
      ],
      "metadata": {
        "id": "Iz9zPrS9d6EZ"
      },
      "execution_count": 21,
      "outputs": []
    },
    {
      "cell_type": "code",
      "source": [
        "#Check on the response status \n",
        "\n",
        "response\n",
        "\n",
        "#Note: The following link has information on the various http response codes that we may encounter while making a request - https://www.w3.org/Protocols/HTTP/HTRESP.html\n"
      ],
      "metadata": {
        "colab": {
          "base_uri": "https://localhost:8080/"
        },
        "id": "Iq6UJ0OueNTD",
        "outputId": "eebab1ce-b812-48b3-e54b-d9b14daabd09"
      },
      "execution_count": 23,
      "outputs": [
        {
          "output_type": "execute_result",
          "data": {
            "text/plain": [
              "<Response [200]>"
            ]
          },
          "metadata": {},
          "execution_count": 23
        }
      ]
    },
    {
      "cell_type": "code",
      "source": [
        "#Validate the content of the response\n",
        "\n",
        "response.content"
      ],
      "metadata": {
        "id": "taiLdjQCeD2F"
      },
      "execution_count": null,
      "outputs": []
    },
    {
      "cell_type": "code",
      "source": [
        "#Parse the response\n",
        "\n",
        "soup=BeautifulSoup(response.content)"
      ],
      "metadata": {
        "id": "C3f2a5C7g5Iv"
      },
      "execution_count": 9,
      "outputs": []
    },
    {
      "cell_type": "code",
      "source": [
        "\n",
        "div = soup.find('div', {'class' : \"container\"} ) # <div class=\"container\" style=\"height: auto !important;\">"
      ],
      "metadata": {
        "id": "bxBTi0XueUl0"
      },
      "execution_count": 16,
      "outputs": []
    },
    {
      "cell_type": "code",
      "source": [
        "rows = div.find_all('div', {'class' : \"row\"}) # <div class=\"row\" style=\"height: auto !important;\">"
      ],
      "metadata": {
        "colab": {
          "base_uri": "https://localhost:8080/",
          "height": 165
        },
        "id": "1jWAsoZZivHO",
        "outputId": "8fe32b98-5e78-46e8-994d-ee087a3ab2e7"
      },
      "execution_count": 19,
      "outputs": [
        {
          "output_type": "error",
          "ename": "AttributeError",
          "evalue": "ignored",
          "traceback": [
            "\u001b[0;31m---------------------------------------------------------------------------\u001b[0m",
            "\u001b[0;31mAttributeError\u001b[0m                            Traceback (most recent call last)",
            "\u001b[0;32m<ipython-input-19-6e69da276296>\u001b[0m in \u001b[0;36m<module>\u001b[0;34m\u001b[0m\n\u001b[0;32m----> 1\u001b[0;31m \u001b[0mrows\u001b[0m \u001b[0;34m=\u001b[0m \u001b[0mdiv\u001b[0m\u001b[0;34m.\u001b[0m\u001b[0mfind_all\u001b[0m\u001b[0;34m(\u001b[0m\u001b[0;34m'div'\u001b[0m\u001b[0;34m,\u001b[0m \u001b[0;34m{\u001b[0m\u001b[0;34m'class'\u001b[0m \u001b[0;34m:\u001b[0m \u001b[0;34m\"row\"\u001b[0m\u001b[0;34m}\u001b[0m\u001b[0;34m)\u001b[0m \u001b[0;31m# <div class=\"row\" style=\"height: auto !important;\">\u001b[0m\u001b[0;34m\u001b[0m\u001b[0;34m\u001b[0m\u001b[0m\n\u001b[0m",
            "\u001b[0;31mAttributeError\u001b[0m: 'NoneType' object has no attribute 'find_all'"
          ]
        }
      ]
    }
  ]
}