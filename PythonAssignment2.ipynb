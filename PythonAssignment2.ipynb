{
  "nbformat": 4,
  "nbformat_minor": 0,
  "metadata": {
    "colab": {
      "provenance": [],
      "authorship_tag": "ABX9TyOFup/LNAh0f4licyTA7vgF",
      "include_colab_link": true
    },
    "kernelspec": {
      "name": "python3",
      "display_name": "Python 3"
    },
    "language_info": {
      "name": "python"
    }
  },
  "cells": [
    {
      "cell_type": "markdown",
      "metadata": {
        "id": "view-in-github",
        "colab_type": "text"
      },
      "source": [
        "<a href=\"https://colab.research.google.com/github/mohammau/PythonAssignment2_DBS/blob/main/PythonAssignment2.ipynb\" target=\"_parent\"><img src=\"https://colab.research.google.com/assets/colab-badge.svg\" alt=\"Open In Colab\"/></a>"
      ]
    },
    {
      "cell_type": "code",
      "source": [
        "#Problem Statemet:\n",
        "\n",
        "#Design and develop data acquisition and pre-processing pipleline by \"Web Scraping\" the following site \"https://www.worldometers.info/\" that has various data on world population,\n",
        "#Government and Economics, Society and media etc. \n",
        "\n",
        "#The Extraction of features like population, enerygy, food etc and transforming them to show the population data at a specific period of time or the differnce of populations over \n",
        "#two specific periods of time etc.\n",
        "\n",
        "#Loading the transformed data in the database\n",
        "\n",
        "#Note: The features listed above are for example only and they may change during the course of implementation. "
      ],
      "metadata": {
        "id": "AIYA6ZxzRpq_"
      },
      "execution_count": 2,
      "outputs": []
    }
  ]
}